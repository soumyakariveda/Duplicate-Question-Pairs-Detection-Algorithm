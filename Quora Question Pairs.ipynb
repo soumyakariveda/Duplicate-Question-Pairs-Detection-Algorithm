{
 "cells": [
  {
   "cell_type": "code",
   "execution_count": 1,
   "metadata": {},
   "outputs": [],
   "source": [
    "import pandas as pd\n",
    "import numpy as np\n",
    "import collections\n",
    "from sklearn.linear_model import LogisticRegression"
   ]
  },
  {
   "cell_type": "code",
   "execution_count": 2,
   "metadata": {},
   "outputs": [],
   "source": [
    "#load dataset\n",
    "train = pd.read_csv('train.csv',low_memory = False)\n",
    "#fill empty questions with \"no\"\n",
    "train[\"question1\"].fillna(\"no\", inplace = True) \n",
    "train[\"question2\"].fillna(\"no\", inplace = True)"
   ]
  },
  {
   "cell_type": "code",
   "execution_count": 3,
   "metadata": {},
   "outputs": [],
   "source": [
    "#creating dataframe for train data\n",
    "Total_Data_Frame = pd.DataFrame(train)\n",
    "Total_Data_Frame = Total_Data_Frame[['id','qid1','qid2','question1','question2','is_duplicate']].copy()\n",
    "Total_Data_Frame = Total_Data_Frame[:]"
   ]
  },
  {
   "cell_type": "code",
   "execution_count": 4,
   "metadata": {},
   "outputs": [],
   "source": [
    "#load dataset\n",
    "test = pd.read_csv('test.csv',low_memory = False)\n",
    "#fill empty questions with \"no\"\n",
    "test[\"question1\"].fillna(\"no\", inplace = True) \n",
    "test[\"question2\"].fillna(\"no\", inplace = True)"
   ]
  },
  {
   "cell_type": "code",
   "execution_count": 5,
   "metadata": {},
   "outputs": [],
   "source": [
    "#creating dataframe for train data\n",
    "Test_Total_Data_Frame = pd.DataFrame(test)\n",
    "Test_Total_Data_Frame = Test_Total_Data_Frame[['id','question1','question2']].copy()"
   ]
  },
  {
   "cell_type": "code",
   "execution_count": 6,
   "metadata": {},
   "outputs": [],
   "source": [
    "# train.describe()"
   ]
  },
  {
   "cell_type": "code",
   "execution_count": 7,
   "metadata": {
    "scrolled": false
   },
   "outputs": [],
   "source": [
    "#removing invalid lables\n",
    "Total_Data_Frame = Total_Data_Frame[(Total_Data_Frame.is_duplicate == '0') | (Total_Data_Frame.is_duplicate == '1')]"
   ]
  },
  {
   "cell_type": "code",
   "execution_count": 8,
   "metadata": {},
   "outputs": [],
   "source": [
    "# creating dataframe for questions in training set\n",
    "data_frame = Total_Data_Frame[['question1','question2']].copy()\n",
    "test_data_frame = Test_Total_Data_Frame[['question1','question2']].copy()"
   ]
  },
  {
   "cell_type": "code",
   "execution_count": 9,
   "metadata": {},
   "outputs": [],
   "source": [
    "# text processing \n",
    "# 1.lower\n",
    "# 2.remove punctuation\n",
    "# 3.tokenize\n",
    "# 4.lemmatising\n",
    "# 5.remove stop words\n",
    "# import sys\n",
    "# reload(sys)\n",
    "# sys.setdefaultencoding('utf8')\n",
    "from nltk.corpus import stopwords\n",
    "import string\n",
    "from textblob import Word\n",
    "from nltk.stem.snowball import SnowballStemmer\n",
    "def preprocessing(d):\n",
    "        df=d[0]\n",
    "        df = df.lower()\n",
    "        #df.translate(None,string.punctuation)\n",
    "        exclude = set(string.punctuation)\n",
    "        df = ''.join(ch for ch in df if ch not in exclude)\n",
    "        list_df=df.split()\n",
    "        lemmatize_list=[]\n",
    "        for i in list_df:\n",
    "            w=Word(i)\n",
    "            lemmatize_list.append(w.lemmatize())\n",
    "#         stop_words=set(stopwords.words('english'))\n",
    "#         filtered_list = [w for w in lemmatize_list if not w in stop_words]\n",
    "#         filtered_sentence =' '.join(filtered_list)\n",
    "        filtered_sentence =' '.join(lemmatize_list)\n",
    "        return filtered_sentence"
   ]
  },
  {
   "cell_type": "code",
   "execution_count": 10,
   "metadata": {},
   "outputs": [],
   "source": [
    "# df_q1=data_frame[['question1']].copy()\n",
    "# df_q2=data_frame[['question2']].copy()\n",
    "# df_q1 = df_q1.apply(preprocessing,axis=1)\n",
    "# df_q2 = df_q2.apply(preprocessing,axis=1)\n",
    "# data_frame['question1']=df_q1\n",
    "# data_frame['question2']=df_q2\n",
    "# test_df_q1 = test_data_frame[['question1']].copy()\n",
    "# test_df_q2 = test_data_frame[['question2']].copy()\n",
    "# test_df_q1 = test_df_q1.apply(preprocessing,axis=1)\n",
    "# test_df_q2 = test_df_q2.apply(preprocessing,axis=1)\n",
    "# test_data_frame['question1'] = test_df_q1\n",
    "# test_data_frame['question2'] = test_df_q2"
   ]
  },
  {
   "cell_type": "code",
   "execution_count": 11,
   "metadata": {},
   "outputs": [],
   "source": [
    "from collections import Counter\n",
    "\n",
    "# If a word appears only once, we ignore it completely (likely a typo)\n",
    "# Epsilon defines a smoothing constant, which makes the effect of extremely rare words smaller\n",
    "def get_weight(count, eps=10000, min_count=2):\n",
    "    if count < min_count:\n",
    "        return 0\n",
    "    else:\n",
    "        return 1 / (count + eps)\n",
    "\n",
    "eps = 5000 \n",
    "words = (\" \".join(data_frame)).lower().split()\n",
    "counts = Counter(words)\n",
    "weights = {word: get_weight(count) for word, count in counts.items()}"
   ]
  },
  {
   "cell_type": "code",
   "execution_count": 12,
   "metadata": {},
   "outputs": [],
   "source": [
    "stops = set(stopwords.words(\"english\"))\n",
    "def tfidf_word_match_share(row):\n",
    "    q1words = {}\n",
    "    q2words = {}\n",
    "    for word in str(row['question1']).lower().split():\n",
    "        if word not in stops:\n",
    "            q1words[word] = 1\n",
    "    for word in str(row['question2']).lower().split():\n",
    "        if word not in stops:\n",
    "            q2words[word] = 1\n",
    "    if len(q1words) == 0 or len(q2words) == 0:\n",
    "        # The computer-generated chaff includes a few questions that are nothing but stopwords\n",
    "        return 0\n",
    "    \n",
    "    shared_weights = [weights.get(w, 0) for w in q1words.keys() if w in q2words] + [weights.get(w, 0) for w in q2words.keys() if w in q1words]\n",
    "    total_weights = [weights.get(w, 0) for w in q1words] + [weights.get(w, 0) for w in q2words]\n",
    "    \n",
    "    R = np.sum(shared_weights) / np.sum(total_weights)\n",
    "    return R"
   ]
  },
  {
   "cell_type": "code",
   "execution_count": 13,
   "metadata": {},
   "outputs": [],
   "source": [
    "def word_match_share(row):\n",
    "    q1words = {}\n",
    "    q2words = {}\n",
    "    for word in str(row['question1']).lower().split():\n",
    "        if word not in stops:\n",
    "            q1words[word] = 1\n",
    "    for word in str(row['question2']).lower().split():\n",
    "        if word not in stops:\n",
    "            q2words[word] = 1\n",
    "    if len(q1words) == 0 or len(q2words) == 0:\n",
    "        # The computer-generated chaff includes a few questions that are nothing but stopwords\n",
    "        return 0\n",
    "    shared_words_in_q1 = [w for w in q1words.keys() if w in q2words]\n",
    "    shared_words_in_q2 = [w for w in q2words.keys() if w in q1words]\n",
    "    R = (len(shared_words_in_q1) + len(shared_words_in_q2))/(len(q1words) + len(q2words))\n",
    "    return R"
   ]
  },
  {
   "cell_type": "code",
   "execution_count": 14,
   "metadata": {},
   "outputs": [],
   "source": [
    "from sklearn.feature_extraction.text import TfidfVectorizer\n",
    "def tf_idf_ngram(d):\n",
    "    l = [d[0],d[1]]\n",
    "    vectorizer = TfidfVectorizer(ngram_range = (1,4))\n",
    "    vectorizer.fit(l)\n",
    "    question1 = vectorizer.transform([l[0]])\n",
    "    question2 = vectorizer.transform([l[1]])\n",
    "    arr1 = question1.toarray()[0]\n",
    "    arr2 = question2.toarray()[0]\n",
    "    arr = np.array([arr1,arr2])\n",
    "    return arr"
   ]
  },
  {
   "cell_type": "code",
   "execution_count": 15,
   "metadata": {},
   "outputs": [],
   "source": [
    "def cosine_dist(df):\n",
    "    mat=df[0]\n",
    "    a = mat[0]\n",
    "    b = mat[1]\n",
    "    return np.dot(a,b)"
   ]
  },
  {
   "cell_type": "code",
   "execution_count": 16,
   "metadata": {},
   "outputs": [],
   "source": [
    "import math\n",
    "def diff_length(d):\n",
    "    q1 = d[0]\n",
    "    q2 = d[1]\n",
    "    w1 = q1.split()\n",
    "    w2 = q2.split()\n",
    "    return abs(len(w1)-len(w2))"
   ]
  },
  {
   "cell_type": "code",
   "execution_count": 17,
   "metadata": {},
   "outputs": [],
   "source": [
    "def jaccard_similarity(d):\n",
    "    q1 = d[0]\n",
    "    q2 = d[1]\n",
    "    w1 = q1.split()\n",
    "    w2 = q2.split()\n",
    "    s1 = set(w1)\n",
    "    s2 = set(w2)\n",
    "    return float(len(s1 & s2))/len(s1 | s2)"
   ]
  },
  {
   "cell_type": "code",
   "execution_count": 18,
   "metadata": {},
   "outputs": [],
   "source": [
    "from fuzzywuzzy import fuzz\n",
    "def fuzz_features(df):\n",
    "    q1 = df[0]\n",
    "    q2 = df[1]\n",
    "    fuzz_ratio = fuzz.ratio(q1,q2)\n",
    "    return fuzz_ratio"
   ]
  },
  {
   "cell_type": "code",
   "execution_count": 19,
   "metadata": {},
   "outputs": [],
   "source": [
    "def bray_curtis_dist(df):\n",
    "    mat = df[0]\n",
    "    a = mat[0]\n",
    "    b = mat[1]\n",
    "    numerator=sum(abs(x-y) for x,y in zip(a,b))\n",
    "    denominator=sum((x+y) for x,y in zip(a,b))\n",
    "    try:\n",
    "        return float(numerator)/denominator\n",
    "    except ZeroDivisionError:\n",
    "        return 1"
   ]
  },
  {
   "cell_type": "code",
   "execution_count": 20,
   "metadata": {},
   "outputs": [],
   "source": [
    "def euclidian_dist(df):\n",
    "    mat = df[0]\n",
    "    a = mat[0]\n",
    "    b = mat[1]\n",
    "    return np.linalg.norm(a-b)"
   ]
  },
  {
   "cell_type": "code",
   "execution_count": 21,
   "metadata": {},
   "outputs": [],
   "source": [
    "# tic0=timeit.default_timer()\n",
    "train = Total_Data_Frame.copy()\n",
    "test = Test_Total_Data_Frame.copy()\n",
    "df1 = train[['question1']].copy()\n",
    "df2 = train[['question2']].copy()\n",
    "df1_test = test[['question1']].copy()\n",
    "df2_test = test[['question2']].copy()\n",
    "\n",
    "df2.rename(columns = {'question2':'question1'},inplace=True)\n",
    "df2_test.rename(columns = {'question2':'question1'},inplace=True)\n",
    "\n",
    "train_questions = df1.append(df2)\n",
    "train_questions = train_questions.append(df1_test)\n",
    "train_questions = train_questions.append(df2_test)\n",
    "train_questions.drop_duplicates(subset = ['question1'],inplace=True)\n",
    "\n",
    "train_questions.reset_index(inplace=True,drop=True)\n",
    "questions_dict = pd.Series(train_questions.index.values,index=train_questions.question1.values).to_dict()\n",
    "train_cp = train.copy()\n",
    "test_cp = test.copy()\n",
    "train_cp.drop(['qid1','qid2'],axis=1,inplace=True)\n",
    "\n",
    "test_cp['is_duplicate'] = -1\n",
    "test_cp.rename(columns={'test_id':'id'},inplace=True)\n",
    "comb = pd.concat([train_cp,test_cp])\n",
    "\n",
    "comb['q1_hash'] = comb['question1'].map(questions_dict)\n",
    "comb['q2_hash'] = comb['question2'].map(questions_dict)\n",
    "\n",
    "q1_vc = comb.q1_hash.value_counts().to_dict()\n",
    "q2_vc = comb.q2_hash.value_counts().to_dict()\n",
    "\n",
    "def try_apply_dict(x,dict_to_apply):\n",
    "    try:\n",
    "        return dict_to_apply[x]\n",
    "    except KeyError:\n",
    "        return 0\n",
    "#map to frequency space\n",
    "comb['q1_freq'] = comb['q1_hash'].map(lambda x: try_apply_dict(x,q1_vc) + try_apply_dict(x,q2_vc))\n",
    "comb['q2_freq'] = comb['q2_hash'].map(lambda x: try_apply_dict(x,q1_vc) + try_apply_dict(x,q2_vc))\n",
    "\n",
    "train_q1_freq = comb[pd.to_numeric(comb['is_duplicate']) >= 0][['q1_freq']]\n",
    "train_q2_freq = comb[pd.to_numeric(comb['is_duplicate']) >= 0][['q2_freq']]\n",
    "test_q1_freq = comb[pd.to_numeric(comb['is_duplicate']) < 0][['q1_freq']]\n",
    "test_q2_freq = comb[pd.to_numeric(comb['is_duplicate'])< 0][['q2_freq']]"
   ]
  },
  {
   "cell_type": "code",
   "execution_count": 22,
   "metadata": {},
   "outputs": [],
   "source": [
    "tf_idf_ngram_vec = data_frame.apply(tf_idf_ngram,axis=1)\n",
    "tf_idf_ngram_df = pd.DataFrame(tf_idf_ngram_vec)\n",
    "tf_idf_ngram_df.rename(columns={ 0 : 'tf_idf_ngram'}, inplace=True)"
   ]
  },
  {
   "cell_type": "code",
   "execution_count": 23,
   "metadata": {},
   "outputs": [],
   "source": [
    "cosine_dist_ngram_vec = tf_idf_ngram_df.apply(cosine_dist,axis=1)\n",
    "cosine_dist_ngram_df = pd.DataFrame(cosine_dist_ngram_vec)\n",
    "rs = cosine_dist_ngram_df.values.reshape(-1,1)\n",
    "cosine_dist_ngram_df = pd.DataFrame(rs)\n",
    "#if coisne dist is nan, fill with 0.5 \n",
    "cosine_dist_ngram_df.fillna(cosine_dist_ngram_df.mean(),inplace=True)\n",
    "cosine_dist_ngram_vec = cosine_dist_ngram_df[0].tolist()"
   ]
  },
  {
   "cell_type": "code",
   "execution_count": 24,
   "metadata": {},
   "outputs": [],
   "source": [
    "diff_length_vec = data_frame.apply(diff_length,axis = 1)\n",
    "diff_length_df = pd.DataFrame(diff_length_vec)\n",
    "rs = diff_length_df.values.reshape(-1,1)\n",
    "diff_length_df = pd.DataFrame(rs)\n",
    "diff_length_df.fillna(diff_length_df.mean(),inplace=True)\n",
    "diff_length_vec = diff_length_df[0].tolist()"
   ]
  },
  {
   "cell_type": "code",
   "execution_count": 25,
   "metadata": {},
   "outputs": [],
   "source": [
    "jaccard_similarity_vec = data_frame.apply(jaccard_similarity,axis = 1)\n",
    "jaccard_similarity_df = pd.DataFrame(jaccard_similarity_vec)\n",
    "rs = jaccard_similarity_df.values.reshape(-1,1)\n",
    "jaccard_similarity_df = pd.DataFrame(rs)\n",
    "jaccard_similarity_df.fillna(jaccard_similarity_df.mean(),inplace=True)\n",
    "jaccard_similarity_vec = jaccard_similarity_df[0].tolist()"
   ]
  },
  {
   "cell_type": "code",
   "execution_count": 26,
   "metadata": {},
   "outputs": [],
   "source": [
    "fuzz_features_vec = data_frame.apply(fuzz_features,axis = 1)\n",
    "fuzz_features_df = pd.DataFrame(fuzz_features_vec)\n",
    "rs = fuzz_features_df.values.reshape(-1,1)\n",
    "fuzz_features_df = pd.DataFrame(rs)\n",
    "fuzz_features_df.fillna(fuzz_features_df.mean(),inplace=True)\n",
    "fuzz_features_vec = fuzz_features_df[0].tolist()"
   ]
  },
  {
   "cell_type": "code",
   "execution_count": 27,
   "metadata": {},
   "outputs": [],
   "source": [
    "bray_curtis_dist_vec = tf_idf_ngram_df.apply(bray_curtis_dist, axis=1)\n",
    "bray_curtis_dist_df = pd.DataFrame(bray_curtis_dist_vec)\n",
    "rs = bray_curtis_dist_df.values.reshape(-1,1)\n",
    "bray_curtis_dist_df = pd.DataFrame(rs)\n",
    "bray_curtis_dist_df.fillna(bray_curtis_dist_df.mean(),inplace=True)\n",
    "bray_curtis_dist_vec = bray_curtis_dist_df[0].tolist()"
   ]
  },
  {
   "cell_type": "code",
   "execution_count": 28,
   "metadata": {},
   "outputs": [],
   "source": [
    "euclidian_dist_ngram_vec = tf_idf_ngram_df.apply(euclidian_dist,axis=1)\n",
    "euclidian_dist_ngram_df = pd.DataFrame(euclidian_dist_ngram_vec)\n",
    "rs = euclidian_dist_ngram_df.values.reshape(-1,1)\n",
    "euclidian_dist_ngram_df = pd.DataFrame(rs)\n",
    "euclidian_dist_ngram_df.fillna(euclidian_dist_ngram_df.mean(),inplace=True)\n",
    "euclidian_dist_ngram_vec = euclidian_dist_ngram_df[0].tolist()"
   ]
  },
  {
   "cell_type": "code",
   "execution_count": 29,
   "metadata": {},
   "outputs": [
    {
     "name": "stderr",
     "output_type": "stream",
     "text": [
      "/anaconda3/lib/python3.6/site-packages/ipykernel_launcher.py:18: RuntimeWarning: invalid value encountered in long_scalars\n",
      "/anaconda3/lib/python3.6/site-packages/ipykernel_launcher.py:18: RuntimeWarning: invalid value encountered in double_scalars\n"
     ]
    }
   ],
   "source": [
    "features_df = pd.DataFrame()\n",
    "features_df['tfidf_match_score'] = data_frame.apply(tfidf_word_match_share,axis = 1)\n",
    "features_df['match_score'] = data_frame.apply(word_match_share,axis = 1)\n",
    "features_df['q1_freq'] = train_q1_freq.copy()\n",
    "features_df['q2_freq'] = train_q2_freq.copy()\n",
    "features_df['cosine_dist_ngram'] = cosine_dist_ngram_vec\n",
    "features_df['diff_length'] = diff_length_vec\n",
    "features_df['jaccard'] = jaccard_similarity_vec\n",
    "features_df['fuzz_ratio'] = fuzz_features_vec\n",
    "features_df['bray_curtis_dist'] = bray_curtis_dist_vec\n",
    "features_df['euclidian_dist_ngram'] = euclidian_dist_ngram_vec"
   ]
  },
  {
   "cell_type": "code",
   "execution_count": 30,
   "metadata": {},
   "outputs": [],
   "source": [
    "res_df = Total_Data_Frame[['is_duplicate']].copy()\n",
    "res_df.rename(columns={ 0 : 'is_duplicate'}, inplace=True)\n",
    "res_vec = res_df.values.ravel()\n",
    "res_df = pd.DataFrame(res_vec)"
   ]
  },
  {
   "cell_type": "code",
   "execution_count": 31,
   "metadata": {},
   "outputs": [
    {
     "name": "stdout",
     "output_type": "stream",
     "text": [
      "Best: -0.311429 using {'learning_rate': 0.7}\n"
     ]
    }
   ],
   "source": [
    "#learning rate\n",
    "import xgboost as xgb\n",
    "from sklearn.model_selection import StratifiedKFold\n",
    "from sklearn.model_selection import GridSearchCV\n",
    "model = xgb.XGBClassifier()\n",
    "# learning_rate = [0.6,0.65,0.7,0.75,0.8,0.85,0.9,0.95,1,1.05,1.1,1.15,1.2]\n",
    "learning_rate = [0.01,0.1,0.2,0.3,0.4,0.5,0.6,0.7,0.8,0.9]\n",
    "param_grid = dict(learning_rate=learning_rate)\n",
    "kfold = StratifiedKFold(n_splits=10, shuffle=True, random_state=7)#scikit learn\n",
    "grid_search = GridSearchCV(model, param_grid, scoring=\"neg_log_loss\", n_jobs=-1, cv=kfold)\n",
    "#model and parameters we want to change are passed as parameters cv->Cross Validation\n",
    "grid_result = grid_search.fit(features_df,res_vec)\n",
    "# summarize results\n",
    "print(\"Best: %f using %s\" % (grid_result.best_score_, grid_result.best_params_))"
   ]
  },
  {
   "cell_type": "code",
   "execution_count": 32,
   "metadata": {},
   "outputs": [],
   "source": [
    "means = grid_result.cv_results_['mean_test_score']\n",
    "stds = grid_result.cv_results_['std_test_score']\n",
    "params = grid_result.cv_results_['params']"
   ]
  },
  {
   "cell_type": "code",
   "execution_count": 33,
   "metadata": {},
   "outputs": [],
   "source": [
    "from matplotlib import pyplot\n",
    "pyplot.errorbar(learning_rate, means, yerr=stds)\n",
    "pyplot.title(\"XGBoost learning_rate vs Log Loss\")\n",
    "pyplot.xlabel('learning_rate')\n",
    "pyplot.ylabel('Log Loss')\n",
    "pyplot.savefig('learning_rate.png')"
   ]
  },
  {
   "cell_type": "code",
   "execution_count": 34,
   "metadata": {},
   "outputs": [
    {
     "data": {
      "text/plain": [
       "XGBClassifier(base_score=0.5, booster='gbtree', colsample_bylevel=1,\n",
       "       colsample_bytree=1, gamma=0, learning_rate=0.7, max_delta_step=0,\n",
       "       max_depth=3, min_child_weight=1, missing=None, n_estimators=100,\n",
       "       n_jobs=1, nthread=None, objective='binary:logistic', random_state=1,\n",
       "       reg_alpha=0, reg_lambda=1, scale_pos_weight=1, seed=None,\n",
       "       silent=True, subsample=1)"
      ]
     },
     "execution_count": 34,
     "metadata": {},
     "output_type": "execute_result"
    }
   ],
   "source": [
    "import xgboost as xgb\n",
    "lr = grid_result.best_params_['learning_rate']\n",
    "model = xgb.XGBClassifier(learning_rate = lr,random_state = 1)\n",
    "model.fit(features_df,res_vec)"
   ]
  },
  {
   "cell_type": "code",
   "execution_count": 35,
   "metadata": {},
   "outputs": [],
   "source": [
    "#creating data frame for test data\n",
    "test_tot_df = pd.DataFrame(Test_Total_Data_Frame)\n",
    "test_df = test_tot_df[['question1','question2']].copy()"
   ]
  },
  {
   "cell_type": "code",
   "execution_count": 36,
   "metadata": {
    "scrolled": true
   },
   "outputs": [
    {
     "data": {
      "image/png": "[encoded data removed]",
      "text/plain": [
       "<Figure size 432x288 with 1 Axes>"
      ]
     },
     "metadata": {},
     "output_type": "display_data"
    }
   ],
   "source": [
    "import matplotlib.pyplot as plt\n",
    "xgb.plot_importance(model)\n",
    "plt.show()"
   ]
  },
  {
   "cell_type": "code",
   "execution_count": 37,
   "metadata": {},
   "outputs": [],
   "source": [
    "test_tf_idf_ngram_vec = test_data_frame.apply(tf_idf_ngram,axis=1)\n",
    "test_tf_idf_ngram_df = pd.DataFrame(test_tf_idf_ngram_vec)\n",
    "test_tf_idf_ngram_df.rename(columns={ 0 : 'test_tf_idf_ngram'}, inplace=True)"
   ]
  },
  {
   "cell_type": "code",
   "execution_count": 38,
   "metadata": {},
   "outputs": [],
   "source": [
    "test_cosine_dist_ngram_vec = test_tf_idf_ngram_df.apply(cosine_dist,axis=1)\n",
    "test_cosine_dist_ngram_df = pd.DataFrame(test_cosine_dist_ngram_vec)\n",
    "rs = test_cosine_dist_ngram_df.values.reshape(-1,1)\n",
    "test_cosine_dist_ngram_df = pd.DataFrame(rs)\n",
    "#if coisne dist is nan, fill with 0.5 \n",
    "test_cosine_dist_ngram_df.fillna(test_cosine_dist_ngram_df.mean(),inplace=True)\n",
    "test_cosine_dist_ngram_vec = test_cosine_dist_ngram_df[0].tolist()"
   ]
  },
  {
   "cell_type": "code",
   "execution_count": 39,
   "metadata": {},
   "outputs": [],
   "source": [
    "test_diff_length_vec = test_data_frame.apply(diff_length,axis = 1)\n",
    "test_diff_length_df = pd.DataFrame(test_diff_length_vec)\n",
    "rs = test_diff_length_df.values.reshape(-1,1)\n",
    "test_diff_length_df = pd.DataFrame(rs)\n",
    "test_diff_length_df.fillna(test_diff_length_df.mean(),inplace=True)\n",
    "test_diff_length_vec = test_diff_length_df[0].tolist()"
   ]
  },
  {
   "cell_type": "code",
   "execution_count": 40,
   "metadata": {},
   "outputs": [],
   "source": [
    "test_jaccard_similarity_vec = test_data_frame.apply(jaccard_similarity,axis = 1)\n",
    "test_jaccard_similarity_df = pd.DataFrame(test_jaccard_similarity_vec)\n",
    "rs = test_jaccard_similarity_df.values.reshape(-1,1)\n",
    "test_jaccard_similarity_df = pd.DataFrame(rs)\n",
    "test_jaccard_similarity_df.fillna(test_jaccard_similarity_df.mean(),inplace=True)\n",
    "test_jaccard_similarity_vec = test_jaccard_similarity_df[0].tolist()"
   ]
  },
  {
   "cell_type": "code",
   "execution_count": 41,
   "metadata": {},
   "outputs": [],
   "source": [
    "test_fuzz_features_vec = test_data_frame.apply(fuzz_features,axis = 1)\n",
    "test_fuzz_features_df = pd.DataFrame(test_fuzz_features_vec)\n",
    "rs = test_fuzz_features_df.values.reshape(-1,1)\n",
    "test_fuzz_features_df = pd.DataFrame(rs)\n",
    "test_fuzz_features_df.fillna(test_fuzz_features_df.mean(),inplace=True)\n",
    "test_fuzz_features_vec = test_fuzz_features_df[0].tolist()"
   ]
  },
  {
   "cell_type": "code",
   "execution_count": 42,
   "metadata": {},
   "outputs": [],
   "source": [
    "test_bray_curtis_dist_vec = test_tf_idf_ngram_df.apply(bray_curtis_dist, axis=1)\n",
    "test_bray_curtis_dist_df = pd.DataFrame(test_bray_curtis_dist_vec)\n",
    "rs = test_bray_curtis_dist_df.values.reshape(-1,1)\n",
    "test_bray_curtis_dist_df = pd.DataFrame(rs)\n",
    "test_bray_curtis_dist_df.fillna(test_bray_curtis_dist_df.mean(),inplace=True)\n",
    "test_bray_curtis_dist_vec = test_bray_curtis_dist_df[0].tolist()"
   ]
  },
  {
   "cell_type": "code",
   "execution_count": 43,
   "metadata": {},
   "outputs": [],
   "source": [
    "test_euclidian_dist_ngram_vec = test_tf_idf_ngram_df.apply(euclidian_dist,axis=1)\n",
    "test_euclidian_dist_ngram_df = pd.DataFrame(test_euclidian_dist_ngram_vec)\n",
    "rs = test_euclidian_dist_ngram_df.values.reshape(-1,1)\n",
    "test_euclidian_dist_ngram_df = pd.DataFrame(rs)\n",
    "test_euclidian_dist_ngram_df.fillna(test_euclidian_dist_ngram_df.mean(),inplace=True)\n",
    "test_euclidian_dist_ngram_vec = test_euclidian_dist_ngram_df[0].tolist()"
   ]
  },
  {
   "cell_type": "code",
   "execution_count": 44,
   "metadata": {},
   "outputs": [
    {
     "name": "stderr",
     "output_type": "stream",
     "text": [
      "/anaconda3/lib/python3.6/site-packages/ipykernel_launcher.py:18: RuntimeWarning: invalid value encountered in long_scalars\n",
      "/anaconda3/lib/python3.6/site-packages/ipykernel_launcher.py:18: RuntimeWarning: invalid value encountered in double_scalars\n"
     ]
    }
   ],
   "source": [
    "test_features_df = pd.DataFrame()\n",
    "test_features_df['tfidf_match_score'] = test_data_frame.apply(tfidf_word_match_share,axis = 1)\n",
    "test_features_df['match_score'] = test_data_frame.apply(word_match_share,axis = 1)\n",
    "test_features_df['q1_freq'] = test_q1_freq.copy()\n",
    "test_features_df['q2_freq'] = test_q2_freq.copy()\n",
    "test_features_df['cosine_dist_ngram'] = test_cosine_dist_ngram_vec\n",
    "test_features_df['diff_length'] = test_diff_length_vec\n",
    "test_features_df['jaccard'] = test_jaccard_similarity_vec\n",
    "test_features_df['fuzz_ratio'] = test_fuzz_features_vec\n",
    "test_features_df['bray_curtis_dist'] = test_bray_curtis_dist_vec\n",
    "test_features_df['euclidian_dist_ngram'] = test_euclidian_dist_ngram_vec"
   ]
  },
  {
   "cell_type": "code",
   "execution_count": 45,
   "metadata": {},
   "outputs": [],
   "source": [
    "pred_values_df = Test_Total_Data_Frame[['id']].copy()"
   ]
  },
  {
   "cell_type": "code",
   "execution_count": 46,
   "metadata": {},
   "outputs": [],
   "source": [
    "pred_values = model.predict_proba(test_features_df)\n",
    "pred_values_df['is_duplicate'] = pred_values[:,1]"
   ]
  },
  {
   "cell_type": "code",
   "execution_count": 48,
   "metadata": {},
   "outputs": [],
   "source": [
    "pred_values_df.to_csv(\"s20.csv\",index = False)"
   ]
  }
 ],
 "metadata": {
  "kernelspec": {
   "display_name": "Python 3",
   "language": "python",
   "name": "python3"
  },
  "language_info": {
   "codemirror_mode": {
    "name": "ipython",
    "version": 3
   },
   "file_extension": ".py",
   "mimetype": "text/x-python",
   "name": "python",
   "nbconvert_exporter": "python",
   "pygments_lexer": "ipython3",
   "version": "3.6.7"
  }
 },
 "nbformat": 4,
 "nbformat_minor": 2
}
